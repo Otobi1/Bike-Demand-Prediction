{
  "nbformat": 4,
  "nbformat_minor": 0,
  "metadata": {
    "colab": {
      "name": "Bike Demand Prediction - 3",
      "provenance": [],
      "authorship_tag": "ABX9TyPRjMJCdzDpmNXSPVzmJtdD",
      "include_colab_link": true
    },
    "kernelspec": {
      "name": "python3",
      "display_name": "Python 3"
    },
    "language_info": {
      "name": "python"
    }
  },
  "cells": [
    {
      "cell_type": "markdown",
      "metadata": {
        "id": "view-in-github",
        "colab_type": "text"
      },
      "source": [
        "<a href=\"https://colab.research.google.com/github/Otobi1/Bike-Demand-Prediction/blob/master/Bike_Demand_Prediction_3.ipynb\" target=\"_parent\"><img src=\"https://colab.research.google.com/assets/colab-badge.svg\" alt=\"Open In Colab\"/></a>"
      ]
    },
    {
      "cell_type": "code",
      "metadata": {
        "id": "SFU9cVpU-Lhc"
      },
      "source": [
        "import numpy as np\n",
        "import pandas as pd\n",
        "import matplotlib.pyplot as plt\n",
        "import seaborn as sns \n",
        "\n",
        "from sklearn.model_selection import StratifiedShuffleSplit\n",
        "from sklearn.pipeline import Pipeline\n",
        "\n",
        "from sklearn.impute import SimpleImputer\n",
        "from sklearn.preprocessing import StandardScaler, OneHotEncoder\n",
        "from sklearn.compose import ColumnTransformer\n",
        "\n",
        "import warnings\n",
        "warnings.filterwarnings('ignore')"
      ],
      "execution_count": 1,
      "outputs": []
    },
    {
      "cell_type": "code",
      "metadata": {
        "colab": {
          "base_uri": "https://localhost:8080/"
        },
        "id": "A91bK0eQ-wXU",
        "outputId": "6d670736-bc79-4c5f-fc3d-b26874dfa1c3"
      },
      "source": [
        "!wget http://archive.ics.uci.edu/ml/machine-learning-databases/00560/SeoulBikeData.csv"
      ],
      "execution_count": 2,
      "outputs": [
        {
          "output_type": "stream",
          "text": [
            "--2021-03-29 17:53:27--  http://archive.ics.uci.edu/ml/machine-learning-databases/00560/SeoulBikeData.csv\n",
            "Resolving archive.ics.uci.edu (archive.ics.uci.edu)... 128.195.10.252\n",
            "Connecting to archive.ics.uci.edu (archive.ics.uci.edu)|128.195.10.252|:80... connected.\n",
            "HTTP request sent, awaiting response... 200 OK\n",
            "Length: 604166 (590K) [application/x-httpd-php]\n",
            "Saving to: ‘SeoulBikeData.csv.2’\n",
            "\n",
            "\rSeoulBikeData.csv.2   0%[                    ]       0  --.-KB/s               \rSeoulBikeData.csv.2 100%[===================>] 590.01K  --.-KB/s    in 0.06s   \n",
            "\n",
            "2021-03-29 17:53:28 (9.37 MB/s) - ‘SeoulBikeData.csv.2’ saved [604166/604166]\n",
            "\n"
          ],
          "name": "stdout"
        }
      ]
    },
    {
      "cell_type": "code",
      "metadata": {
        "id": "xk2DMfyC-3zw"
      },
      "source": [
        "df = pd.read_csv('./SeoulBikeData.csv', index_col='Date', encoding='unicode_escape')\n",
        "\n",
        "data = df.copy()"
      ],
      "execution_count": 3,
      "outputs": []
    },
    {
      "cell_type": "code",
      "metadata": {
        "id": "XQ7CgpUg-_p0"
      },
      "source": [
        "split = StratifiedShuffleSplit(n_splits=1, test_size=0.2, random_state=42)\n",
        "for train_index, test_index in split.split(data, data['Seasons']):\n",
        "  strat_train_set = data.iloc[train_index]\n",
        "  strat_test_set = data.iloc[test_index]"
      ],
      "execution_count": 4,
      "outputs": []
    },
    {
      "cell_type": "code",
      "metadata": {
        "colab": {
          "base_uri": "https://localhost:8080/"
        },
        "id": "P8lQhSyfCe9C",
        "outputId": "04123075-8991-453e-dfdb-6fab277b601e"
      },
      "source": [
        "strat_train_set.shape"
      ],
      "execution_count": 5,
      "outputs": [
        {
          "output_type": "execute_result",
          "data": {
            "text/plain": [
              "(7008, 13)"
            ]
          },
          "metadata": {
            "tags": []
          },
          "execution_count": 5
        }
      ]
    },
    {
      "cell_type": "code",
      "metadata": {
        "colab": {
          "base_uri": "https://localhost:8080/"
        },
        "id": "V_AywWBKCq31",
        "outputId": "7659a289-e2e9-4efa-e979-9d5bc1b97966"
      },
      "source": [
        "strat_test_set.shape"
      ],
      "execution_count": 6,
      "outputs": [
        {
          "output_type": "execute_result",
          "data": {
            "text/plain": [
              "(1752, 13)"
            ]
          },
          "metadata": {
            "tags": []
          },
          "execution_count": 6
        }
      ]
    },
    {
      "cell_type": "code",
      "metadata": {
        "colab": {
          "base_uri": "https://localhost:8080/",
          "height": 666
        },
        "id": "2iys-G8K_Ae5",
        "outputId": "e4d9f570-da8b-4a1f-a8e7-981298de51c8"
      },
      "source": [
        "data = strat_train_set.drop('Rented Bike Count', axis=1)\n",
        "data_labels = strat_train_set['Rented Bike Count'].copy()\n",
        "data"
      ],
      "execution_count": 7,
      "outputs": [
        {
          "output_type": "execute_result",
          "data": {
            "text/html": [
              "<div>\n",
              "<style scoped>\n",
              "    .dataframe tbody tr th:only-of-type {\n",
              "        vertical-align: middle;\n",
              "    }\n",
              "\n",
              "    .dataframe tbody tr th {\n",
              "        vertical-align: top;\n",
              "    }\n",
              "\n",
              "    .dataframe thead th {\n",
              "        text-align: right;\n",
              "    }\n",
              "</style>\n",
              "<table border=\"1\" class=\"dataframe\">\n",
              "  <thead>\n",
              "    <tr style=\"text-align: right;\">\n",
              "      <th></th>\n",
              "      <th>Hour</th>\n",
              "      <th>Temperature(°C)</th>\n",
              "      <th>Humidity(%)</th>\n",
              "      <th>Wind speed (m/s)</th>\n",
              "      <th>Visibility (10m)</th>\n",
              "      <th>Dew point temperature(°C)</th>\n",
              "      <th>Solar Radiation (MJ/m2)</th>\n",
              "      <th>Rainfall(mm)</th>\n",
              "      <th>Snowfall (cm)</th>\n",
              "      <th>Seasons</th>\n",
              "      <th>Holiday</th>\n",
              "      <th>Functioning Day</th>\n",
              "    </tr>\n",
              "    <tr>\n",
              "      <th>Date</th>\n",
              "      <th></th>\n",
              "      <th></th>\n",
              "      <th></th>\n",
              "      <th></th>\n",
              "      <th></th>\n",
              "      <th></th>\n",
              "      <th></th>\n",
              "      <th></th>\n",
              "      <th></th>\n",
              "      <th></th>\n",
              "      <th></th>\n",
              "      <th></th>\n",
              "    </tr>\n",
              "  </thead>\n",
              "  <tbody>\n",
              "    <tr>\n",
              "      <th>29/06/2018</th>\n",
              "      <td>9</td>\n",
              "      <td>22.9</td>\n",
              "      <td>86</td>\n",
              "      <td>1.7</td>\n",
              "      <td>538</td>\n",
              "      <td>20.4</td>\n",
              "      <td>0.76</td>\n",
              "      <td>0.0</td>\n",
              "      <td>0.0</td>\n",
              "      <td>Summer</td>\n",
              "      <td>No Holiday</td>\n",
              "      <td>Yes</td>\n",
              "    </tr>\n",
              "    <tr>\n",
              "      <th>13/01/2018</th>\n",
              "      <td>18</td>\n",
              "      <td>-2.6</td>\n",
              "      <td>73</td>\n",
              "      <td>1.0</td>\n",
              "      <td>684</td>\n",
              "      <td>-6.7</td>\n",
              "      <td>0.01</td>\n",
              "      <td>0.0</td>\n",
              "      <td>0.0</td>\n",
              "      <td>Winter</td>\n",
              "      <td>No Holiday</td>\n",
              "      <td>Yes</td>\n",
              "    </tr>\n",
              "    <tr>\n",
              "      <th>26/11/2018</th>\n",
              "      <td>22</td>\n",
              "      <td>6.2</td>\n",
              "      <td>70</td>\n",
              "      <td>0.4</td>\n",
              "      <td>474</td>\n",
              "      <td>1.1</td>\n",
              "      <td>0.00</td>\n",
              "      <td>0.0</td>\n",
              "      <td>0.0</td>\n",
              "      <td>Autumn</td>\n",
              "      <td>No Holiday</td>\n",
              "      <td>Yes</td>\n",
              "    </tr>\n",
              "    <tr>\n",
              "      <th>05/06/2018</th>\n",
              "      <td>8</td>\n",
              "      <td>21.5</td>\n",
              "      <td>58</td>\n",
              "      <td>1.1</td>\n",
              "      <td>1021</td>\n",
              "      <td>12.8</td>\n",
              "      <td>1.21</td>\n",
              "      <td>0.0</td>\n",
              "      <td>0.0</td>\n",
              "      <td>Summer</td>\n",
              "      <td>No Holiday</td>\n",
              "      <td>Yes</td>\n",
              "    </tr>\n",
              "    <tr>\n",
              "      <th>01/06/2018</th>\n",
              "      <td>21</td>\n",
              "      <td>23.5</td>\n",
              "      <td>44</td>\n",
              "      <td>1.6</td>\n",
              "      <td>2000</td>\n",
              "      <td>10.5</td>\n",
              "      <td>0.00</td>\n",
              "      <td>0.0</td>\n",
              "      <td>0.0</td>\n",
              "      <td>Summer</td>\n",
              "      <td>No Holiday</td>\n",
              "      <td>Yes</td>\n",
              "    </tr>\n",
              "    <tr>\n",
              "      <th>...</th>\n",
              "      <td>...</td>\n",
              "      <td>...</td>\n",
              "      <td>...</td>\n",
              "      <td>...</td>\n",
              "      <td>...</td>\n",
              "      <td>...</td>\n",
              "      <td>...</td>\n",
              "      <td>...</td>\n",
              "      <td>...</td>\n",
              "      <td>...</td>\n",
              "      <td>...</td>\n",
              "      <td>...</td>\n",
              "    </tr>\n",
              "    <tr>\n",
              "      <th>30/11/2018</th>\n",
              "      <td>3</td>\n",
              "      <td>-0.1</td>\n",
              "      <td>69</td>\n",
              "      <td>0.9</td>\n",
              "      <td>1338</td>\n",
              "      <td>-5.1</td>\n",
              "      <td>0.00</td>\n",
              "      <td>0.0</td>\n",
              "      <td>0.0</td>\n",
              "      <td>Autumn</td>\n",
              "      <td>No Holiday</td>\n",
              "      <td>Yes</td>\n",
              "    </tr>\n",
              "    <tr>\n",
              "      <th>21/06/2018</th>\n",
              "      <td>13</td>\n",
              "      <td>27.3</td>\n",
              "      <td>33</td>\n",
              "      <td>3.4</td>\n",
              "      <td>1921</td>\n",
              "      <td>9.6</td>\n",
              "      <td>3.42</td>\n",
              "      <td>0.0</td>\n",
              "      <td>0.0</td>\n",
              "      <td>Summer</td>\n",
              "      <td>No Holiday</td>\n",
              "      <td>Yes</td>\n",
              "    </tr>\n",
              "    <tr>\n",
              "      <th>22/02/2018</th>\n",
              "      <td>4</td>\n",
              "      <td>-2.4</td>\n",
              "      <td>58</td>\n",
              "      <td>0.3</td>\n",
              "      <td>2000</td>\n",
              "      <td>-9.5</td>\n",
              "      <td>0.00</td>\n",
              "      <td>0.0</td>\n",
              "      <td>0.0</td>\n",
              "      <td>Winter</td>\n",
              "      <td>No Holiday</td>\n",
              "      <td>Yes</td>\n",
              "    </tr>\n",
              "    <tr>\n",
              "      <th>30/11/2018</th>\n",
              "      <td>20</td>\n",
              "      <td>3.4</td>\n",
              "      <td>37</td>\n",
              "      <td>2.3</td>\n",
              "      <td>2000</td>\n",
              "      <td>-9.9</td>\n",
              "      <td>0.00</td>\n",
              "      <td>0.0</td>\n",
              "      <td>0.0</td>\n",
              "      <td>Autumn</td>\n",
              "      <td>No Holiday</td>\n",
              "      <td>Yes</td>\n",
              "    </tr>\n",
              "    <tr>\n",
              "      <th>08/10/2018</th>\n",
              "      <td>4</td>\n",
              "      <td>10.4</td>\n",
              "      <td>61</td>\n",
              "      <td>0.6</td>\n",
              "      <td>2000</td>\n",
              "      <td>3.1</td>\n",
              "      <td>0.00</td>\n",
              "      <td>0.0</td>\n",
              "      <td>0.0</td>\n",
              "      <td>Autumn</td>\n",
              "      <td>No Holiday</td>\n",
              "      <td>Yes</td>\n",
              "    </tr>\n",
              "  </tbody>\n",
              "</table>\n",
              "<p>7008 rows × 12 columns</p>\n",
              "</div>"
            ],
            "text/plain": [
              "            Hour  Temperature(°C)  ...     Holiday  Functioning Day\n",
              "Date                               ...                             \n",
              "29/06/2018     9             22.9  ...  No Holiday              Yes\n",
              "13/01/2018    18             -2.6  ...  No Holiday              Yes\n",
              "26/11/2018    22              6.2  ...  No Holiday              Yes\n",
              "05/06/2018     8             21.5  ...  No Holiday              Yes\n",
              "01/06/2018    21             23.5  ...  No Holiday              Yes\n",
              "...          ...              ...  ...         ...              ...\n",
              "30/11/2018     3             -0.1  ...  No Holiday              Yes\n",
              "21/06/2018    13             27.3  ...  No Holiday              Yes\n",
              "22/02/2018     4             -2.4  ...  No Holiday              Yes\n",
              "30/11/2018    20              3.4  ...  No Holiday              Yes\n",
              "08/10/2018     4             10.4  ...  No Holiday              Yes\n",
              "\n",
              "[7008 rows x 12 columns]"
            ]
          },
          "metadata": {
            "tags": []
          },
          "execution_count": 7
        }
      ]
    },
    {
      "cell_type": "code",
      "metadata": {
        "id": "zzG3fzBH_HQk"
      },
      "source": [
        "def num_pipeline_transformer(data):\n",
        "  \"\"\"\n",
        "  Function to process numerical transformations \n",
        "  Argument:\n",
        "    data: original dataframe\n",
        "  Returns:\n",
        "    num_attrs: numerical dataframe\n",
        "    num_pipeline: numerical pipeline object\n",
        "  \"\"\"\n",
        "  numerics = ['float64', 'int64']\n",
        "\n",
        "  num_attrs = data.select_dtypes(include=numerics)\n",
        "\n",
        "  num_pipeline = Pipeline([\n",
        "     ('std_scaler', StandardScaler()), \n",
        "      ])\n",
        "  return num_attrs, num_pipeline\n",
        "\n",
        "def pipeline_transformer(data):\n",
        "  \"\"\"\n",
        "  Complete transformation pipeline for both\n",
        "  numerical and categorical data.\n",
        "\n",
        "  Argument:\n",
        "    data:original dataframe\n",
        "  Returns:\n",
        "    prepared_data: transformed, ready to use\n",
        "  \"\"\"\n",
        "\n",
        "  cat_attrs = ['Seasons', 'Holiday', 'Functioning Day']\n",
        "  num_attrs, num_pipeline = num_pipeline_transformer(data)\n",
        "  full_pipeline = ColumnTransformer([\n",
        "       ('num', num_pipeline, list(num_attrs)),\n",
        "       ('cat', OneHotEncoder(), cat_attrs),\n",
        "       ])\n",
        "  prepared_data = full_pipeline.fit_transform(data)\n",
        "  return prepared_data\n"
      ],
      "execution_count": 8,
      "outputs": []
    },
    {
      "cell_type": "code",
      "metadata": {
        "colab": {
          "base_uri": "https://localhost:8080/"
        },
        "id": "yYMHMS3LBMjM",
        "outputId": "f12620ef-4ccb-4c36-cb5e-41ba49bc93a7"
      },
      "source": [
        "prepared_data = pipeline_transformer(data)\n",
        "prepared_data"
      ],
      "execution_count": 9,
      "outputs": [
        {
          "output_type": "execute_result",
          "data": {
            "text/plain": [
              "array([[-0.35968275,  0.83664277,  1.36677375, ...,  1.        ,\n",
              "         0.        ,  1.        ],\n",
              "       [ 0.93947602, -1.29688457,  0.72763035, ...,  1.        ,\n",
              "         0.        ,  1.        ],\n",
              "       [ 1.51687991, -0.56060847,  0.58013572, ...,  1.        ,\n",
              "         0.        ,  1.        ],\n",
              "       ...,\n",
              "       [-1.08143762, -1.28015103, -0.0098428 , ...,  1.        ,\n",
              "         0.        ,  1.        ],\n",
              "       [ 1.22817796, -0.79487814, -1.04230521, ...,  1.        ,\n",
              "         0.        ,  1.        ],\n",
              "       [-1.08143762, -0.20920397,  0.13765183, ...,  1.        ,\n",
              "         0.        ,  1.        ]])"
            ]
          },
          "metadata": {
            "tags": []
          },
          "execution_count": 9
        }
      ]
    },
    {
      "cell_type": "code",
      "metadata": {
        "colab": {
          "base_uri": "https://localhost:8080/"
        },
        "id": "5Ftk2rlPBdRH",
        "outputId": "7c9f3f70-9b85-4da0-997f-77ecd28a266e"
      },
      "source": [
        "prepared_data[0]"
      ],
      "execution_count": 10,
      "outputs": [
        {
          "output_type": "execute_result",
          "data": {
            "text/plain": [
              "array([-0.35968275,  0.83664277,  1.36677375, -0.02323267, -1.4890478 ,\n",
              "        1.24640775,  0.22153702, -0.13145357, -0.1724833 ,  0.        ,\n",
              "        0.        ,  1.        ,  0.        ,  0.        ,  1.        ,\n",
              "        0.        ,  1.        ])"
            ]
          },
          "metadata": {
            "tags": []
          },
          "execution_count": 10
        }
      ]
    },
    {
      "cell_type": "code",
      "metadata": {
        "colab": {
          "base_uri": "https://localhost:8080/"
        },
        "id": "-KgFOkkaDCWR",
        "outputId": "72683241-b8fc-4c36-a699-2ada7ea9a657"
      },
      "source": [
        "prepared_data.shape"
      ],
      "execution_count": 11,
      "outputs": [
        {
          "output_type": "execute_result",
          "data": {
            "text/plain": [
              "(7008, 17)"
            ]
          },
          "metadata": {
            "tags": []
          },
          "execution_count": 11
        }
      ]
    },
    {
      "cell_type": "code",
      "metadata": {
        "colab": {
          "base_uri": "https://localhost:8080/"
        },
        "id": "5qh9qK0_BiRK",
        "outputId": "9080ff2b-ee94-4d91-c9da-58b36e4f8710"
      },
      "source": [
        "from sklearn.linear_model import LinearRegression\n",
        "\n",
        "lin_reg = LinearRegression()\n",
        "lin_reg.fit(prepared_data, data_labels)"
      ],
      "execution_count": 12,
      "outputs": [
        {
          "output_type": "execute_result",
          "data": {
            "text/plain": [
              "LinearRegression(copy_X=True, fit_intercept=True, n_jobs=None, normalize=False)"
            ]
          },
          "metadata": {
            "tags": []
          },
          "execution_count": 12
        }
      ]
    },
    {
      "cell_type": "code",
      "metadata": {
        "id": "s_-u1R3AB1DA"
      },
      "source": [
        "sample_data = data.iloc[:5]\n",
        "sample_labels = data_labels.iloc[:5]\n",
        "\n",
        "sample_data_prepared = pipeline_transformer(sample_data)\n",
        "\n",
        "print (\"Prediction of samples:\", lin_reg.predict(sample_data_prepared))"
      ],
      "execution_count": null,
      "outputs": []
    }
  ]
}
