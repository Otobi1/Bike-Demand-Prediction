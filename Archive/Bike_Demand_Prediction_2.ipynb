{
  "nbformat": 4,
  "nbformat_minor": 0,
  "metadata": {
    "colab": {
      "name": "Bike Demand Prediction - 2",
      "provenance": [],
      "authorship_tag": "ABX9TyO+a7waQUbJxq0h5D0MBEds",
      "include_colab_link": true
    },
    "kernelspec": {
      "name": "python3",
      "display_name": "Python 3"
    },
    "language_info": {
      "name": "python"
    }
  },
  "cells": [
    {
      "cell_type": "markdown",
      "metadata": {
        "id": "view-in-github",
        "colab_type": "text"
      },
      "source": [
        "<a href=\"https://colab.research.google.com/github/Otobi1/Bike-Demand-Prediction/blob/master/Bike_Demand_Prediction_2.ipynb\" target=\"_parent\"><img src=\"https://colab.research.google.com/assets/colab-badge.svg\" alt=\"Open In Colab\"/></a>"
      ]
    },
    {
      "cell_type": "code",
      "metadata": {
        "id": "R3k_hItsrhuP"
      },
      "source": [
        "import numpy as np\n",
        "import pandas as pd\n",
        "import matplotlib.pyplot as plt\n",
        "import seaborn as sns\n",
        "from sklearn.model_selection import StratifiedShuffleSplit\n",
        "\n",
        "import warnings\n",
        "warnings.filterwarnings('ignore')"
      ],
      "execution_count": 2,
      "outputs": []
    },
    {
      "cell_type": "code",
      "metadata": {
        "colab": {
          "base_uri": "https://localhost:8080/"
        },
        "id": "Tz4Ul6Q7upd-",
        "outputId": "77f3fb8b-a5b8-4c4f-f6e2-48a6eb860fc0"
      },
      "source": [
        "!wget http://archive.ics.uci.edu/ml/machine-learning-databases/00560/SeoulBikeData.csv"
      ],
      "execution_count": 3,
      "outputs": [
        {
          "output_type": "stream",
          "text": [
            "--2021-03-29 16:04:24--  http://archive.ics.uci.edu/ml/machine-learning-databases/00560/SeoulBikeData.csv\n",
            "Resolving archive.ics.uci.edu (archive.ics.uci.edu)... 128.195.10.252\n",
            "Connecting to archive.ics.uci.edu (archive.ics.uci.edu)|128.195.10.252|:80... connected.\n",
            "HTTP request sent, awaiting response... 200 OK\n",
            "Length: 604166 (590K) [application/x-httpd-php]\n",
            "Saving to: ‘SeoulBikeData.csv’\n",
            "\n",
            "\rSeoulBikeData.csv     0%[                    ]       0  --.-KB/s               \rSeoulBikeData.csv   100%[===================>] 590.01K  --.-KB/s    in 0.07s   \n",
            "\n",
            "2021-03-29 16:04:24 (8.68 MB/s) - ‘SeoulBikeData.csv’ saved [604166/604166]\n",
            "\n"
          ],
          "name": "stdout"
        }
      ]
    },
    {
      "cell_type": "code",
      "metadata": {
        "id": "WtTAZ-D2usAS"
      },
      "source": [
        "df = pd.read_csv('./SeoulBikeData.csv', index_col='Date', encoding='unicode_escape')\n",
        "\n",
        "data = df.copy()"
      ],
      "execution_count": 5,
      "outputs": []
    },
    {
      "cell_type": "code",
      "metadata": {
        "id": "X_HSGpLQvBlj"
      },
      "source": [
        "split = StratifiedShuffleSplit(n_splits=1, test_size=0.2, random_state=42)\n",
        "for train_index, test_index in split.split(data, data['Seasons']):\n",
        "  strat_train_set = data.iloc[train_index]\n",
        "  strat_test_set = data.iloc[test_index]"
      ],
      "execution_count": 8,
      "outputs": []
    },
    {
      "cell_type": "code",
      "metadata": {
        "colab": {
          "base_uri": "https://localhost:8080/",
          "height": 629
        },
        "id": "YPdZPXWwwzVb",
        "outputId": "c91596f5-53c1-4d08-cd3a-fd393eeff345"
      },
      "source": [
        "data = strat_train_set.drop('Rented Bike Count', axis=1)\n",
        "data_labels = strat_train_set['Rented Bike Count'].copy()\n",
        "data"
      ],
      "execution_count": 9,
      "outputs": [
        {
          "output_type": "execute_result",
          "data": {
            "text/html": [
              "<div>\n",
              "<style scoped>\n",
              "    .dataframe tbody tr th:only-of-type {\n",
              "        vertical-align: middle;\n",
              "    }\n",
              "\n",
              "    .dataframe tbody tr th {\n",
              "        vertical-align: top;\n",
              "    }\n",
              "\n",
              "    .dataframe thead th {\n",
              "        text-align: right;\n",
              "    }\n",
              "</style>\n",
              "<table border=\"1\" class=\"dataframe\">\n",
              "  <thead>\n",
              "    <tr style=\"text-align: right;\">\n",
              "      <th></th>\n",
              "      <th>Hour</th>\n",
              "      <th>Temperature(°C)</th>\n",
              "      <th>Humidity(%)</th>\n",
              "      <th>Wind speed (m/s)</th>\n",
              "      <th>Visibility (10m)</th>\n",
              "      <th>Dew point temperature(°C)</th>\n",
              "      <th>Solar Radiation (MJ/m2)</th>\n",
              "      <th>Rainfall(mm)</th>\n",
              "      <th>Snowfall (cm)</th>\n",
              "      <th>Seasons</th>\n",
              "      <th>Holiday</th>\n",
              "      <th>Functioning Day</th>\n",
              "    </tr>\n",
              "    <tr>\n",
              "      <th>Date</th>\n",
              "      <th></th>\n",
              "      <th></th>\n",
              "      <th></th>\n",
              "      <th></th>\n",
              "      <th></th>\n",
              "      <th></th>\n",
              "      <th></th>\n",
              "      <th></th>\n",
              "      <th></th>\n",
              "      <th></th>\n",
              "      <th></th>\n",
              "      <th></th>\n",
              "    </tr>\n",
              "  </thead>\n",
              "  <tbody>\n",
              "    <tr>\n",
              "      <th>29/06/2018</th>\n",
              "      <td>9</td>\n",
              "      <td>22.9</td>\n",
              "      <td>86</td>\n",
              "      <td>1.7</td>\n",
              "      <td>538</td>\n",
              "      <td>20.4</td>\n",
              "      <td>0.76</td>\n",
              "      <td>0.0</td>\n",
              "      <td>0.0</td>\n",
              "      <td>Summer</td>\n",
              "      <td>No Holiday</td>\n",
              "      <td>Yes</td>\n",
              "    </tr>\n",
              "    <tr>\n",
              "      <th>13/01/2018</th>\n",
              "      <td>18</td>\n",
              "      <td>-2.6</td>\n",
              "      <td>73</td>\n",
              "      <td>1.0</td>\n",
              "      <td>684</td>\n",
              "      <td>-6.7</td>\n",
              "      <td>0.01</td>\n",
              "      <td>0.0</td>\n",
              "      <td>0.0</td>\n",
              "      <td>Winter</td>\n",
              "      <td>No Holiday</td>\n",
              "      <td>Yes</td>\n",
              "    </tr>\n",
              "    <tr>\n",
              "      <th>26/11/2018</th>\n",
              "      <td>22</td>\n",
              "      <td>6.2</td>\n",
              "      <td>70</td>\n",
              "      <td>0.4</td>\n",
              "      <td>474</td>\n",
              "      <td>1.1</td>\n",
              "      <td>0.00</td>\n",
              "      <td>0.0</td>\n",
              "      <td>0.0</td>\n",
              "      <td>Autumn</td>\n",
              "      <td>No Holiday</td>\n",
              "      <td>Yes</td>\n",
              "    </tr>\n",
              "    <tr>\n",
              "      <th>05/06/2018</th>\n",
              "      <td>8</td>\n",
              "      <td>21.5</td>\n",
              "      <td>58</td>\n",
              "      <td>1.1</td>\n",
              "      <td>1021</td>\n",
              "      <td>12.8</td>\n",
              "      <td>1.21</td>\n",
              "      <td>0.0</td>\n",
              "      <td>0.0</td>\n",
              "      <td>Summer</td>\n",
              "      <td>No Holiday</td>\n",
              "      <td>Yes</td>\n",
              "    </tr>\n",
              "    <tr>\n",
              "      <th>01/06/2018</th>\n",
              "      <td>21</td>\n",
              "      <td>23.5</td>\n",
              "      <td>44</td>\n",
              "      <td>1.6</td>\n",
              "      <td>2000</td>\n",
              "      <td>10.5</td>\n",
              "      <td>0.00</td>\n",
              "      <td>0.0</td>\n",
              "      <td>0.0</td>\n",
              "      <td>Summer</td>\n",
              "      <td>No Holiday</td>\n",
              "      <td>Yes</td>\n",
              "    </tr>\n",
              "    <tr>\n",
              "      <th>...</th>\n",
              "      <td>...</td>\n",
              "      <td>...</td>\n",
              "      <td>...</td>\n",
              "      <td>...</td>\n",
              "      <td>...</td>\n",
              "      <td>...</td>\n",
              "      <td>...</td>\n",
              "      <td>...</td>\n",
              "      <td>...</td>\n",
              "      <td>...</td>\n",
              "      <td>...</td>\n",
              "      <td>...</td>\n",
              "    </tr>\n",
              "    <tr>\n",
              "      <th>30/11/2018</th>\n",
              "      <td>3</td>\n",
              "      <td>-0.1</td>\n",
              "      <td>69</td>\n",
              "      <td>0.9</td>\n",
              "      <td>1338</td>\n",
              "      <td>-5.1</td>\n",
              "      <td>0.00</td>\n",
              "      <td>0.0</td>\n",
              "      <td>0.0</td>\n",
              "      <td>Autumn</td>\n",
              "      <td>No Holiday</td>\n",
              "      <td>Yes</td>\n",
              "    </tr>\n",
              "    <tr>\n",
              "      <th>21/06/2018</th>\n",
              "      <td>13</td>\n",
              "      <td>27.3</td>\n",
              "      <td>33</td>\n",
              "      <td>3.4</td>\n",
              "      <td>1921</td>\n",
              "      <td>9.6</td>\n",
              "      <td>3.42</td>\n",
              "      <td>0.0</td>\n",
              "      <td>0.0</td>\n",
              "      <td>Summer</td>\n",
              "      <td>No Holiday</td>\n",
              "      <td>Yes</td>\n",
              "    </tr>\n",
              "    <tr>\n",
              "      <th>22/02/2018</th>\n",
              "      <td>4</td>\n",
              "      <td>-2.4</td>\n",
              "      <td>58</td>\n",
              "      <td>0.3</td>\n",
              "      <td>2000</td>\n",
              "      <td>-9.5</td>\n",
              "      <td>0.00</td>\n",
              "      <td>0.0</td>\n",
              "      <td>0.0</td>\n",
              "      <td>Winter</td>\n",
              "      <td>No Holiday</td>\n",
              "      <td>Yes</td>\n",
              "    </tr>\n",
              "    <tr>\n",
              "      <th>30/11/2018</th>\n",
              "      <td>20</td>\n",
              "      <td>3.4</td>\n",
              "      <td>37</td>\n",
              "      <td>2.3</td>\n",
              "      <td>2000</td>\n",
              "      <td>-9.9</td>\n",
              "      <td>0.00</td>\n",
              "      <td>0.0</td>\n",
              "      <td>0.0</td>\n",
              "      <td>Autumn</td>\n",
              "      <td>No Holiday</td>\n",
              "      <td>Yes</td>\n",
              "    </tr>\n",
              "    <tr>\n",
              "      <th>08/10/2018</th>\n",
              "      <td>4</td>\n",
              "      <td>10.4</td>\n",
              "      <td>61</td>\n",
              "      <td>0.6</td>\n",
              "      <td>2000</td>\n",
              "      <td>3.1</td>\n",
              "      <td>0.00</td>\n",
              "      <td>0.0</td>\n",
              "      <td>0.0</td>\n",
              "      <td>Autumn</td>\n",
              "      <td>No Holiday</td>\n",
              "      <td>Yes</td>\n",
              "    </tr>\n",
              "  </tbody>\n",
              "</table>\n",
              "<p>7008 rows × 12 columns</p>\n",
              "</div>"
            ],
            "text/plain": [
              "            Hour  Temperature(°C)  ...     Holiday  Functioning Day\n",
              "Date                               ...                             \n",
              "29/06/2018     9             22.9  ...  No Holiday              Yes\n",
              "13/01/2018    18             -2.6  ...  No Holiday              Yes\n",
              "26/11/2018    22              6.2  ...  No Holiday              Yes\n",
              "05/06/2018     8             21.5  ...  No Holiday              Yes\n",
              "01/06/2018    21             23.5  ...  No Holiday              Yes\n",
              "...          ...              ...  ...         ...              ...\n",
              "30/11/2018     3             -0.1  ...  No Holiday              Yes\n",
              "21/06/2018    13             27.3  ...  No Holiday              Yes\n",
              "22/02/2018     4             -2.4  ...  No Holiday              Yes\n",
              "30/11/2018    20              3.4  ...  No Holiday              Yes\n",
              "08/10/2018     4             10.4  ...  No Holiday              Yes\n",
              "\n",
              "[7008 rows x 12 columns]"
            ]
          },
          "metadata": {
            "tags": []
          },
          "execution_count": 9
        }
      ]
    },
    {
      "cell_type": "code",
      "metadata": {
        "colab": {
          "base_uri": "https://localhost:8080/",
          "height": 230
        },
        "id": "SopI8gA2xMJO",
        "outputId": "8ebd1cc9-c6a3-4324-ea08-abc4316d4412"
      },
      "source": [
        "data_cat = data[['Seasons', 'Holiday', 'Functioning Day']]\n",
        "data_cat.head()"
      ],
      "execution_count": 11,
      "outputs": [
        {
          "output_type": "execute_result",
          "data": {
            "text/html": [
              "<div>\n",
              "<style scoped>\n",
              "    .dataframe tbody tr th:only-of-type {\n",
              "        vertical-align: middle;\n",
              "    }\n",
              "\n",
              "    .dataframe tbody tr th {\n",
              "        vertical-align: top;\n",
              "    }\n",
              "\n",
              "    .dataframe thead th {\n",
              "        text-align: right;\n",
              "    }\n",
              "</style>\n",
              "<table border=\"1\" class=\"dataframe\">\n",
              "  <thead>\n",
              "    <tr style=\"text-align: right;\">\n",
              "      <th></th>\n",
              "      <th>Seasons</th>\n",
              "      <th>Holiday</th>\n",
              "      <th>Functioning Day</th>\n",
              "    </tr>\n",
              "    <tr>\n",
              "      <th>Date</th>\n",
              "      <th></th>\n",
              "      <th></th>\n",
              "      <th></th>\n",
              "    </tr>\n",
              "  </thead>\n",
              "  <tbody>\n",
              "    <tr>\n",
              "      <th>29/06/2018</th>\n",
              "      <td>Summer</td>\n",
              "      <td>No Holiday</td>\n",
              "      <td>Yes</td>\n",
              "    </tr>\n",
              "    <tr>\n",
              "      <th>13/01/2018</th>\n",
              "      <td>Winter</td>\n",
              "      <td>No Holiday</td>\n",
              "      <td>Yes</td>\n",
              "    </tr>\n",
              "    <tr>\n",
              "      <th>26/11/2018</th>\n",
              "      <td>Autumn</td>\n",
              "      <td>No Holiday</td>\n",
              "      <td>Yes</td>\n",
              "    </tr>\n",
              "    <tr>\n",
              "      <th>05/06/2018</th>\n",
              "      <td>Summer</td>\n",
              "      <td>No Holiday</td>\n",
              "      <td>Yes</td>\n",
              "    </tr>\n",
              "    <tr>\n",
              "      <th>01/06/2018</th>\n",
              "      <td>Summer</td>\n",
              "      <td>No Holiday</td>\n",
              "      <td>Yes</td>\n",
              "    </tr>\n",
              "  </tbody>\n",
              "</table>\n",
              "</div>"
            ],
            "text/plain": [
              "           Seasons     Holiday Functioning Day\n",
              "Date                                          \n",
              "29/06/2018  Summer  No Holiday             Yes\n",
              "13/01/2018  Winter  No Holiday             Yes\n",
              "26/11/2018  Autumn  No Holiday             Yes\n",
              "05/06/2018  Summer  No Holiday             Yes\n",
              "01/06/2018  Summer  No Holiday             Yes"
            ]
          },
          "metadata": {
            "tags": []
          },
          "execution_count": 11
        }
      ]
    },
    {
      "cell_type": "code",
      "metadata": {
        "colab": {
          "base_uri": "https://localhost:8080/"
        },
        "id": "RGWjro_SyAAI",
        "outputId": "bc524a20-ceeb-430c-900d-9a293fcfa667"
      },
      "source": [
        "from sklearn.preprocessing import OneHotEncoder\n",
        "\n",
        "cat_encoder = OneHotEncoder()\n",
        "data_cat_1hot = cat_encoder.fit_transform(data_cat)\n",
        "data_cat_1hot"
      ],
      "execution_count": 12,
      "outputs": [
        {
          "output_type": "execute_result",
          "data": {
            "text/plain": [
              "<7008x8 sparse matrix of type '<class 'numpy.float64'>'\n",
              "\twith 21024 stored elements in Compressed Sparse Row format>"
            ]
          },
          "metadata": {
            "tags": []
          },
          "execution_count": 12
        }
      ]
    },
    {
      "cell_type": "code",
      "metadata": {
        "colab": {
          "base_uri": "https://localhost:8080/"
        },
        "id": "TQIOlh_zyV6B",
        "outputId": "487fe9d5-f6f3-4fb6-a5d1-5154ee1271e3"
      },
      "source": [
        "data_cat_1hot.toarray()[:5]"
      ],
      "execution_count": 13,
      "outputs": [
        {
          "output_type": "execute_result",
          "data": {
            "text/plain": [
              "array([[0., 0., 1., 0., 0., 1., 0., 1.],\n",
              "       [0., 0., 0., 1., 0., 1., 0., 1.],\n",
              "       [1., 0., 0., 0., 0., 1., 0., 1.],\n",
              "       [0., 0., 1., 0., 0., 1., 0., 1.],\n",
              "       [0., 0., 1., 0., 0., 1., 0., 1.]])"
            ]
          },
          "metadata": {
            "tags": []
          },
          "execution_count": 13
        }
      ]
    },
    {
      "cell_type": "code",
      "metadata": {
        "colab": {
          "base_uri": "https://localhost:8080/"
        },
        "id": "vqoQ6xYGyh1q",
        "outputId": "8f9de5f3-90c5-403e-932c-c062c8ed0c38"
      },
      "source": [
        "cat_encoder.categories_"
      ],
      "execution_count": 14,
      "outputs": [
        {
          "output_type": "execute_result",
          "data": {
            "text/plain": [
              "[array(['Autumn', 'Spring', 'Summer', 'Winter'], dtype=object),\n",
              " array(['Holiday', 'No Holiday'], dtype=object),\n",
              " array(['No', 'Yes'], dtype=object)]"
            ]
          },
          "metadata": {
            "tags": []
          },
          "execution_count": 14
        }
      ]
    },
    {
      "cell_type": "code",
      "metadata": {
        "colab": {
          "base_uri": "https://localhost:8080/"
        },
        "id": "xxUhVAWYynZu",
        "outputId": "a17870fa-bc34-4c31-e093-093787d7a59a"
      },
      "source": [
        "num_data = data.iloc[:, :-3]\n",
        "num_data.info()"
      ],
      "execution_count": 15,
      "outputs": [
        {
          "output_type": "stream",
          "text": [
            "<class 'pandas.core.frame.DataFrame'>\n",
            "Index: 7008 entries, 29/06/2018 to 08/10/2018\n",
            "Data columns (total 9 columns):\n",
            " #   Column                     Non-Null Count  Dtype  \n",
            "---  ------                     --------------  -----  \n",
            " 0   Hour                       7008 non-null   int64  \n",
            " 1   Temperature(°C)            7008 non-null   float64\n",
            " 2   Humidity(%)                7008 non-null   int64  \n",
            " 3   Wind speed (m/s)           7008 non-null   float64\n",
            " 4   Visibility (10m)           7008 non-null   int64  \n",
            " 5   Dew point temperature(°C)  7008 non-null   float64\n",
            " 6   Solar Radiation (MJ/m2)    7008 non-null   float64\n",
            " 7   Rainfall(mm)               7008 non-null   float64\n",
            " 8   Snowfall (cm)              7008 non-null   float64\n",
            "dtypes: float64(6), int64(3)\n",
            "memory usage: 707.5+ KB\n"
          ],
          "name": "stdout"
        }
      ]
    },
    {
      "cell_type": "code",
      "metadata": {
        "colab": {
          "base_uri": "https://localhost:8080/"
        },
        "id": "vWSxy6rqy3_y",
        "outputId": "a5ffa5b7-0f5b-48d3-d983-c6e16b9d9ec7"
      },
      "source": [
        "from sklearn.impute import SimpleImputer\n",
        "\n",
        "imputer = SimpleImputer(strategy = 'median')\n",
        "imputer.fit(num_data)"
      ],
      "execution_count": 16,
      "outputs": [
        {
          "output_type": "execute_result",
          "data": {
            "text/plain": [
              "SimpleImputer(add_indicator=False, copy=True, fill_value=None,\n",
              "              missing_values=nan, strategy='median', verbose=0)"
            ]
          },
          "metadata": {
            "tags": []
          },
          "execution_count": 16
        }
      ]
    },
    {
      "cell_type": "code",
      "metadata": {
        "colab": {
          "base_uri": "https://localhost:8080/"
        },
        "id": "L4j4f-Pk3BHB",
        "outputId": "30ffc031-f479-4199-c3e4-c0ef1c506657"
      },
      "source": [
        "imputer.statistics_"
      ],
      "execution_count": 17,
      "outputs": [
        {
          "output_type": "execute_result",
          "data": {
            "text/plain": [
              "array([1.200e+01, 1.380e+01, 5.700e+01, 1.500e+00, 1.698e+03, 5.200e+00,\n",
              "       1.000e-02, 0.000e+00, 0.000e+00])"
            ]
          },
          "metadata": {
            "tags": []
          },
          "execution_count": 17
        }
      ]
    },
    {
      "cell_type": "code",
      "metadata": {
        "colab": {
          "base_uri": "https://localhost:8080/"
        },
        "id": "wslQsm-b3EMt",
        "outputId": "adcf4527-28b5-46e1-da38-45e66fc9c6c2"
      },
      "source": [
        "data.median().values"
      ],
      "execution_count": 18,
      "outputs": [
        {
          "output_type": "execute_result",
          "data": {
            "text/plain": [
              "array([1.200e+01, 1.380e+01, 5.700e+01, 1.500e+00, 1.698e+03, 5.200e+00,\n",
              "       1.000e-02, 0.000e+00, 0.000e+00])"
            ]
          },
          "metadata": {
            "tags": []
          },
          "execution_count": 18
        }
      ]
    },
    {
      "cell_type": "code",
      "metadata": {
        "colab": {
          "base_uri": "https://localhost:8080/"
        },
        "id": "NnFv4e223KId",
        "outputId": "b8487cc2-acf0-444c-ad5b-763b86946554"
      },
      "source": [
        "X = imputer.transform(num_data)\n",
        "X"
      ],
      "execution_count": 20,
      "outputs": [
        {
          "output_type": "execute_result",
          "data": {
            "text/plain": [
              "array([[ 9.00e+00,  2.29e+01,  8.60e+01, ...,  7.60e-01,  0.00e+00,\n",
              "         0.00e+00],\n",
              "       [ 1.80e+01, -2.60e+00,  7.30e+01, ...,  1.00e-02,  0.00e+00,\n",
              "         0.00e+00],\n",
              "       [ 2.20e+01,  6.20e+00,  7.00e+01, ...,  0.00e+00,  0.00e+00,\n",
              "         0.00e+00],\n",
              "       ...,\n",
              "       [ 4.00e+00, -2.40e+00,  5.80e+01, ...,  0.00e+00,  0.00e+00,\n",
              "         0.00e+00],\n",
              "       [ 2.00e+01,  3.40e+00,  3.70e+01, ...,  0.00e+00,  0.00e+00,\n",
              "         0.00e+00],\n",
              "       [ 4.00e+00,  1.04e+01,  6.10e+01, ...,  0.00e+00,  0.00e+00,\n",
              "         0.00e+00]])"
            ]
          },
          "metadata": {
            "tags": []
          },
          "execution_count": 20
        }
      ]
    },
    {
      "cell_type": "code",
      "metadata": {
        "colab": {
          "base_uri": "https://localhost:8080/"
        },
        "id": "NmbnYPeL3SLa",
        "outputId": "9e414316-34a7-4e07-9200-7ef73952c780"
      },
      "source": [
        "data_tr = pd.DataFrame(X, columns=num_data.columns, index=num_data.index)\n",
        "\n",
        "data_tr.info()"
      ],
      "execution_count": 21,
      "outputs": [
        {
          "output_type": "stream",
          "text": [
            "<class 'pandas.core.frame.DataFrame'>\n",
            "Index: 7008 entries, 29/06/2018 to 08/10/2018\n",
            "Data columns (total 9 columns):\n",
            " #   Column                     Non-Null Count  Dtype  \n",
            "---  ------                     --------------  -----  \n",
            " 0   Hour                       7008 non-null   float64\n",
            " 1   Temperature(°C)            7008 non-null   float64\n",
            " 2   Humidity(%)                7008 non-null   float64\n",
            " 3   Wind speed (m/s)           7008 non-null   float64\n",
            " 4   Visibility (10m)           7008 non-null   float64\n",
            " 5   Dew point temperature(°C)  7008 non-null   float64\n",
            " 6   Solar Radiation (MJ/m2)    7008 non-null   float64\n",
            " 7   Rainfall(mm)               7008 non-null   float64\n",
            " 8   Snowfall (cm)              7008 non-null   float64\n",
            "dtypes: float64(9)\n",
            "memory usage: 707.5+ KB\n"
          ],
          "name": "stdout"
        }
      ]
    },
    {
      "cell_type": "code",
      "metadata": {
        "colab": {
          "base_uri": "https://localhost:8080/",
          "height": 230
        },
        "id": "EZzkeLCr3gVV",
        "outputId": "ed199af3-22d3-41eb-85e4-70af093a5505"
      },
      "source": [
        "num_data.head()"
      ],
      "execution_count": 22,
      "outputs": [
        {
          "output_type": "execute_result",
          "data": {
            "text/html": [
              "<div>\n",
              "<style scoped>\n",
              "    .dataframe tbody tr th:only-of-type {\n",
              "        vertical-align: middle;\n",
              "    }\n",
              "\n",
              "    .dataframe tbody tr th {\n",
              "        vertical-align: top;\n",
              "    }\n",
              "\n",
              "    .dataframe thead th {\n",
              "        text-align: right;\n",
              "    }\n",
              "</style>\n",
              "<table border=\"1\" class=\"dataframe\">\n",
              "  <thead>\n",
              "    <tr style=\"text-align: right;\">\n",
              "      <th></th>\n",
              "      <th>Hour</th>\n",
              "      <th>Temperature(°C)</th>\n",
              "      <th>Humidity(%)</th>\n",
              "      <th>Wind speed (m/s)</th>\n",
              "      <th>Visibility (10m)</th>\n",
              "      <th>Dew point temperature(°C)</th>\n",
              "      <th>Solar Radiation (MJ/m2)</th>\n",
              "      <th>Rainfall(mm)</th>\n",
              "      <th>Snowfall (cm)</th>\n",
              "    </tr>\n",
              "    <tr>\n",
              "      <th>Date</th>\n",
              "      <th></th>\n",
              "      <th></th>\n",
              "      <th></th>\n",
              "      <th></th>\n",
              "      <th></th>\n",
              "      <th></th>\n",
              "      <th></th>\n",
              "      <th></th>\n",
              "      <th></th>\n",
              "    </tr>\n",
              "  </thead>\n",
              "  <tbody>\n",
              "    <tr>\n",
              "      <th>29/06/2018</th>\n",
              "      <td>9</td>\n",
              "      <td>22.9</td>\n",
              "      <td>86</td>\n",
              "      <td>1.7</td>\n",
              "      <td>538</td>\n",
              "      <td>20.4</td>\n",
              "      <td>0.76</td>\n",
              "      <td>0.0</td>\n",
              "      <td>0.0</td>\n",
              "    </tr>\n",
              "    <tr>\n",
              "      <th>13/01/2018</th>\n",
              "      <td>18</td>\n",
              "      <td>-2.6</td>\n",
              "      <td>73</td>\n",
              "      <td>1.0</td>\n",
              "      <td>684</td>\n",
              "      <td>-6.7</td>\n",
              "      <td>0.01</td>\n",
              "      <td>0.0</td>\n",
              "      <td>0.0</td>\n",
              "    </tr>\n",
              "    <tr>\n",
              "      <th>26/11/2018</th>\n",
              "      <td>22</td>\n",
              "      <td>6.2</td>\n",
              "      <td>70</td>\n",
              "      <td>0.4</td>\n",
              "      <td>474</td>\n",
              "      <td>1.1</td>\n",
              "      <td>0.00</td>\n",
              "      <td>0.0</td>\n",
              "      <td>0.0</td>\n",
              "    </tr>\n",
              "    <tr>\n",
              "      <th>05/06/2018</th>\n",
              "      <td>8</td>\n",
              "      <td>21.5</td>\n",
              "      <td>58</td>\n",
              "      <td>1.1</td>\n",
              "      <td>1021</td>\n",
              "      <td>12.8</td>\n",
              "      <td>1.21</td>\n",
              "      <td>0.0</td>\n",
              "      <td>0.0</td>\n",
              "    </tr>\n",
              "    <tr>\n",
              "      <th>01/06/2018</th>\n",
              "      <td>21</td>\n",
              "      <td>23.5</td>\n",
              "      <td>44</td>\n",
              "      <td>1.6</td>\n",
              "      <td>2000</td>\n",
              "      <td>10.5</td>\n",
              "      <td>0.00</td>\n",
              "      <td>0.0</td>\n",
              "      <td>0.0</td>\n",
              "    </tr>\n",
              "  </tbody>\n",
              "</table>\n",
              "</div>"
            ],
            "text/plain": [
              "            Hour  Temperature(°C)  ...  Rainfall(mm)  Snowfall (cm)\n",
              "Date                               ...                             \n",
              "29/06/2018     9             22.9  ...           0.0            0.0\n",
              "13/01/2018    18             -2.6  ...           0.0            0.0\n",
              "26/11/2018    22              6.2  ...           0.0            0.0\n",
              "05/06/2018     8             21.5  ...           0.0            0.0\n",
              "01/06/2018    21             23.5  ...           0.0            0.0\n",
              "\n",
              "[5 rows x 9 columns]"
            ]
          },
          "metadata": {
            "tags": []
          },
          "execution_count": 22
        }
      ]
    },
    {
      "cell_type": "code",
      "metadata": {
        "colab": {
          "base_uri": "https://localhost:8080/"
        },
        "id": "js49GkXO3kq0",
        "outputId": "e784f570-8770-4d45-f0f6-e9acc6fd051a"
      },
      "source": [
        "from sklearn.pipeline import Pipeline\n",
        "\n",
        "from sklearn.preprocessing import StandardScaler\n",
        "\n",
        "numerics = ['float64', 'int64']\n",
        "\n",
        "num_data = data_tr.select_dtypes(include=numerics)\n",
        "\n",
        "num_pipeline = Pipeline([\n",
        "                         ('Imputer', SimpleImputer(strategy='median')), \n",
        "                         ('std_scaler', StandardScaler())\n",
        "])\n",
        "\n",
        "num_data_tr = num_pipeline.fit_transform(num_data)\n",
        "num_data_tr[0]"
      ],
      "execution_count": 23,
      "outputs": [
        {
          "output_type": "execute_result",
          "data": {
            "text/plain": [
              "array([-0.35968275,  0.83664277,  1.36677375, -0.02323267, -1.4890478 ,\n",
              "        1.24640775,  0.22153702, -0.13145357, -0.1724833 ])"
            ]
          },
          "metadata": {
            "tags": []
          },
          "execution_count": 23
        }
      ]
    },
    {
      "cell_type": "code",
      "metadata": {
        "colab": {
          "base_uri": "https://localhost:8080/"
        },
        "id": "1T1ria9T74Xt",
        "outputId": "75ccd24e-7572-4c3a-9b7e-1a38cc5c562d"
      },
      "source": [
        "from sklearn.compose import ColumnTransformer\n",
        "\n",
        "num_attrs = list(num_data)\n",
        "cat_attrs = ['Seasons', 'Holiday', 'Functioning Day']\n",
        "\n",
        "full_pipeline = ColumnTransformer([\n",
        "                                   ('num', num_pipeline, num_attrs), \n",
        "                                   ('cat', OneHotEncoder(), cat_attrs), \n",
        "])\n",
        "\n",
        "prepared_data = full_pipeline.fit_transform(data)\n",
        "prepared_data"
      ],
      "execution_count": 24,
      "outputs": [
        {
          "output_type": "execute_result",
          "data": {
            "text/plain": [
              "array([[-0.35968275,  0.83664277,  1.36677375, ...,  1.        ,\n",
              "         0.        ,  1.        ],\n",
              "       [ 0.93947602, -1.29688457,  0.72763035, ...,  1.        ,\n",
              "         0.        ,  1.        ],\n",
              "       [ 1.51687991, -0.56060847,  0.58013572, ...,  1.        ,\n",
              "         0.        ,  1.        ],\n",
              "       ...,\n",
              "       [-1.08143762, -1.28015103, -0.0098428 , ...,  1.        ,\n",
              "         0.        ,  1.        ],\n",
              "       [ 1.22817796, -0.79487814, -1.04230521, ...,  1.        ,\n",
              "         0.        ,  1.        ],\n",
              "       [-1.08143762, -0.20920397,  0.13765183, ...,  1.        ,\n",
              "         0.        ,  1.        ]])"
            ]
          },
          "metadata": {
            "tags": []
          },
          "execution_count": 24
        }
      ]
    }
  ]
}
